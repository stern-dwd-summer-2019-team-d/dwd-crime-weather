{
 "cells": [
  {
   "cell_type": "markdown",
   "metadata": {},
   "source": [
    "# Importing Weather data from CSV to MySQL database"
   ]
  },
  {
   "cell_type": "markdown",
   "metadata": {},
   "source": [
    "The purpose of this Python Notebook is to import NYC weather data into a MySQL database. The weather data was gathered from https://openweathermap.org/.\n",
    "\n",
    "Prerequisite:\n",
    "* Include weather.csv file in the same folder as this python notebook."
   ]
  },
  {
   "cell_type": "code",
   "execution_count": null,
   "metadata": {},
   "outputs": [],
   "source": [
    "import pandas as pd"
   ]
  },
  {
   "cell_type": "code",
   "execution_count": null,
   "metadata": {},
   "outputs": [],
   "source": [
    "from sqlalchemy import create_engine"
   ]
  },
  {
   "cell_type": "markdown",
   "metadata": {},
   "source": [
    "Import CSV"
   ]
  },
  {
   "cell_type": "code",
   "execution_count": null,
   "metadata": {},
   "outputs": [],
   "source": [
    "# Read the CSV file\n",
    "nyc_weather = pd.read_csv('./weather.csv', encoding=\"utf-8\", dtype=\"unicode\")"
   ]
  },
  {
   "cell_type": "code",
   "execution_count": null,
   "metadata": {},
   "outputs": [],
   "source": [
    "# Change data type for relevant columns\n",
    "nyc_weather['dt'] = nyc_weather['dt'].astype('int64')\n",
    "nyc_weather['dt_iso'] = nyc_weather['dt_iso'].astype('datetime64')\n",
    "nyc_weather['city_id'] = nyc_weather['city_id'].astype('int64')\n",
    "nyc_weather['temp'] = nyc_weather['temp'].astype('float64')\n",
    "nyc_weather['temp_min'] = nyc_weather['temp_min'].astype('float64')\n",
    "nyc_weather['temp_max'] = nyc_weather['temp_max'].astype('float64')\n",
    "nyc_weather['pressure'] = nyc_weather['pressure'].astype('int64')\n",
    "nyc_weather['humidity'] = nyc_weather['humidity'].astype('int64')\n",
    "nyc_weather['wind_speed'] = nyc_weather['wind_speed'].astype('int64')\n",
    "nyc_weather['wind_deg'] = nyc_weather['wind_deg'].astype('int64')\n"
   ]
  },
  {
   "cell_type": "code",
   "execution_count": null,
   "metadata": {},
   "outputs": [],
   "source": [
    "nyc_weather.dtypes"
   ]
  },
  {
   "cell_type": "code",
   "execution_count": null,
   "metadata": {},
   "outputs": [],
   "source": [
    "# Connect to the MySQL, but without selecting a database\n",
    "conn_string = 'mysql://{user}:{password}@{host}:{port}/?charset=utf8'.format(\n",
    "    user     = 'student', \n",
    "    password = 'dwdstudent2015', \n",
    "    host     = 'db.ipeirotis.org', \n",
    "    port     = 3306, \n",
    "    encoding = 'utf-8'\n",
    ")\n",
    "engine = create_engine(conn_string)"
   ]
  },
  {
   "cell_type": "code",
   "execution_count": null,
   "metadata": {},
   "outputs": [],
   "source": [
    "# Use `public` database \n",
    "engine.execute('USE public')"
   ]
  },
  {
   "cell_type": "code",
   "execution_count": null,
   "metadata": {},
   "outputs": [],
   "source": [
    "# Optional, we can drop the table if it is already there\n",
    "engine.execute('DROP TABLE IF EXISTS dwd_2019_group_d_weather')"
   ]
  },
  {
   "cell_type": "code",
   "execution_count": null,
   "metadata": {},
   "outputs": [],
   "source": [
    "# Store the dataframe as a SQL table, using the to_sql command\n",
    "nyc_weather.to_sql(name='dwd_2019_group_d_weather', # name the table \"inspections\"\n",
    "                   con=engine, # use the connection to MySQL created earlier\n",
    "                   if_exists='replace', # if the table is already there, replace it\n",
    "                   index=False, # do not write the index column in the database\n",
    "                   chunksize=1000 # write 1000 lines at a time\n",
    ")"
   ]
  }
 ],
 "metadata": {
  "kernelspec": {
   "display_name": "Python 3",
   "language": "python",
   "name": "python3"
  },
  "language_info": {
   "codemirror_mode": {
    "name": "ipython",
    "version": 3
   },
   "file_extension": ".py",
   "mimetype": "text/x-python",
   "name": "python",
   "nbconvert_exporter": "python",
   "pygments_lexer": "ipython3",
   "version": "3.6.8"
  },
  "toc": {
   "nav_menu": {},
   "number_sections": true,
   "sideBar": true,
   "skip_h1_title": false,
   "title_cell": "Table of Contents",
   "title_sidebar": "Contents",
   "toc_cell": false,
   "toc_position": {},
   "toc_section_display": true,
   "toc_window_display": false
  }
 },
 "nbformat": 4,
 "nbformat_minor": 2
}
